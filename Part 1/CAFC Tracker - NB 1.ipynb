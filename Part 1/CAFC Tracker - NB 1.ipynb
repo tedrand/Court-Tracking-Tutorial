{
 "cells": [
  {
   "cell_type": "code",
   "execution_count": 1,
   "id": "973f2e9a",
   "metadata": {},
   "outputs": [
    {
     "data": {
      "text/plain": [
       "True"
      ]
     },
     "execution_count": 1,
     "metadata": {},
     "output_type": "execute_result"
    }
   ],
   "source": [
    "# Load the .env file to set the API Key\n",
    "from dotenv import load_dotenv\n",
    "\n",
    "# os allows us to check for system variables set by the .env file\n",
    "import os\n",
    "\n",
    "\n",
    "load_dotenv()"
   ]
  },
  {
   "cell_type": "code",
   "execution_count": 2,
   "id": "52797c1d",
   "metadata": {},
   "outputs": [],
   "source": [
    "# allows us to request the data from \n",
    "import requests\n",
    "\n",
    "# allows to recognize and load the data in the form that it is encoded: \n",
    "#    JavaScript Object Notation (JSON)\n",
    "import json\n",
    "\n",
    "# allows us to work with the data in a variety of ways before sending\n",
    "# it to the output\n",
    "import pandas as pd"
   ]
  },
  {
   "cell_type": "code",
   "execution_count": 3,
   "id": "94776028",
   "metadata": {},
   "outputs": [],
   "source": [
    "# Setting some constants here: (1) the BASE_URL and HEADERS \n",
    "BASE_URL = 'https://www.courtlistener.com/api/rest/v3/'\n",
    "\n",
    "# This will be appended to the BASE_URL to get the specific data for\n",
    "# this exercise. There are MANY other ways that you can collect data\n",
    "# from CourtListener\n",
    "CAFC_OPINIONS_URL_STRING = \"opinions/?cluster__docket__court__id=cafc\"\n",
    "\n",
    "# The Headers object will be passed into the API request in order to \n",
    "# include our API key.\n",
    "HEADERS = {'Authorization': 'Token {}'.format(os.getenv(\"CL_API_KEY\"))}\n",
    "\n",
    "# This is the file that we will be saving the data\n",
    "CAFC_OPINIONS_CSV = \"cafc_opinions_data.csv\""
   ]
  },
  {
   "cell_type": "code",
   "execution_count": 4,
   "id": "2dba52ab",
   "metadata": {},
   "outputs": [],
   "source": [
    "# Request the CAFC Opinion Data from CourtListener\n",
    "CAFC_OPINIONS_JSON = requests.get(\n",
    "    url     = BASE_URL + CAFC_OPINIONS_URL_STRING, \n",
    "    headers = HEADERS\n",
    ").json()[\"results\"]"
   ]
  },
  {
   "cell_type": "code",
   "execution_count": 5,
   "id": "ab442243",
   "metadata": {},
   "outputs": [],
   "source": [
    "# Convert the JSON results from the API request into a pandas \"DataFrame\"\n",
    "cafc_opinions_df = pd.DataFrame(CAFC_OPINIONS_JSON)"
   ]
  },
  {
   "cell_type": "code",
   "execution_count": 6,
   "id": "dcaf94d3",
   "metadata": {},
   "outputs": [],
   "source": [
    "# Create an empty array that stores case names\n",
    "case_names = []\n",
    "\n",
    "# Iterate over the cluster URLs in the DataFrame\n",
    "for value in cafc_opinions_df[\"cluster\"]:\n",
    "    \n",
    "    # Send a request to CourtListener for the cluster\n",
    "    cluster = requests.get(value, headers=HEADERS)\n",
    "    \n",
    "    # If there is no case name, set it to the resource_uri       \n",
    "    try:\n",
    "        case_names.append(cluster.json()[\"case_name\"])\n",
    "    except:\n",
    "        case_names.append(\"NA\")\n",
    "        print(value + \" HAS NO CASE NAME\")\n",
    "        pass\n",
    "\n",
    "# Add the \n",
    "cafc_opinions_df[\"case_name\"] = case_names    "
   ]
  },
  {
   "cell_type": "code",
   "execution_count": 8,
   "id": "e680ff74",
   "metadata": {},
   "outputs": [],
   "source": [
    "# Use this command if you want to view the first few rows of the DataFrame\n",
    "# to make sure it looks correct\n",
    "\n",
    "# cafc_opinions_df.head()"
   ]
  },
  {
   "cell_type": "code",
   "execution_count": 9,
   "id": "54a702e4",
   "metadata": {},
   "outputs": [],
   "source": [
    "cafc_opinions_df.to_csv(\n",
    "    \"cafc_opinions.csv\", \n",
    "    mode = 'w', \n",
    "    columns = ['case_name', 'date_created', 'download_url', 'page_count'],\n",
    "    index=False\n",
    ")"
   ]
  },
  {
   "cell_type": "code",
   "execution_count": 10,
   "id": "38fed7c4",
   "metadata": {},
   "outputs": [],
   "source": [
    "# Here's a sneak peek of what we are going to start with in Part 2\n",
    "# cafc_opinions_df.to_json(\n",
    "#     \"cafc_opinions.json\", \n",
    "#     orient=\"records\"\n",
    "# )"
   ]
  },
  {
   "cell_type": "code",
   "execution_count": null,
   "id": "e112ea93",
   "metadata": {},
   "outputs": [],
   "source": []
  }
 ],
 "metadata": {
  "kernelspec": {
   "display_name": "Python 3",
   "language": "python",
   "name": "python3"
  },
  "language_info": {
   "codemirror_mode": {
    "name": "ipython",
    "version": 3
   },
   "file_extension": ".py",
   "mimetype": "text/x-python",
   "name": "python",
   "nbconvert_exporter": "python",
   "pygments_lexer": "ipython3",
   "version": "3.8.8"
  }
 },
 "nbformat": 4,
 "nbformat_minor": 5
}
